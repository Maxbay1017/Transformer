{
 "cells": [
  {
   "cell_type": "code",
   "execution_count": 1,
   "metadata": {},
   "outputs": [
    {
     "name": "stdout",
     "output_type": "stream",
     "text": [
      "torch version: 2.4.0\n",
      "datasets version: 3.1.0\n",
      "tokenizers version: 0.19.1\n"
     ]
    }
   ],
   "source": [
    "from importlib.metadata import version\n",
    "\n",
    "print(\"torch version:\", version(\"torch\"))\n",
    "print(\"datasets version:\", version(\"datasets\"))\n",
    "print(\"tokenizers version:\", version(\"tokenizers\"))"
   ]
  },
  {
   "cell_type": "code",
   "execution_count": 2,
   "metadata": {},
   "outputs": [
    {
     "name": "stderr",
     "output_type": "stream",
     "text": [
      "/opt/miniconda3/envs/torch/lib/python3.12/site-packages/tqdm/auto.py:21: TqdmWarning: IProgress not found. Please update jupyter and ipywidgets. See https://ipywidgets.readthedocs.io/en/stable/user_install.html\n",
      "  from .autonotebook import tqdm as notebook_tqdm\n"
     ]
    }
   ],
   "source": [
    "from datasets import Dataset,load_dataset\n",
    "from train_tokenizer import Config,get_all_sentences,get_or_train_tokenizer\n",
    "config = Config()\n",
    "config.datasource = 'Helsinki-NLP/opus-100'\n",
    "config.lang_src =  'en'\n",
    "config.lang_tgt =  'zh'\n",
    "ds_raw = load_dataset(f\"{config.datasource}\", f\"{config.lang_src}-{config.lang_tgt}\",)"
   ]
  },
  {
   "cell_type": "code",
   "execution_count": null,
   "metadata": {},
   "outputs": [
    {
     "data": {
      "text/plain": [
       "DatasetDict({\n",
       "    test: Dataset({\n",
       "        features: ['translation'],\n",
       "        num_rows: 2000\n",
       "    })\n",
       "    train: Dataset({\n",
       "        features: ['translation'],\n",
       "        num_rows: 1000000\n",
       "    })\n",
       "    validation: Dataset({\n",
       "        features: ['translation'],\n",
       "        num_rows: 2000\n",
       "    })\n",
       "})"
      ]
     },
     "execution_count": 3,
     "metadata": {},
     "output_type": "execute_result"
    }
   ],
   "source": [
    "ds_raw"
   ]
  },
  {
   "cell_type": "code",
   "execution_count": null,
   "metadata": {},
   "outputs": [],
   "source": [
    "from train_tokenizer import get_or_train_tokenizer\n",
    "tokenizer_src = get_or_train_tokenizer(config=config,ds=ds_raw['train'],lang=config.lang_src)\n",
    "tokenizer_tgt = get_or_train_tokenizer(config=config,ds=ds_raw['train'],lang=config.lang_tgt)"
   ]
  },
  {
   "cell_type": "code",
   "execution_count": 5,
   "metadata": {},
   "outputs": [],
   "source": [
    "def get_pair_data(ds:Dataset):\n",
    "    for item in ds:\n",
    "        yield item['translation']"
   ]
  },
  {
   "cell_type": "code",
   "execution_count": 6,
   "metadata": {},
   "outputs": [
    {
     "data": {
      "text/plain": [
       "{'en': 'Sixty-first session', 'zh': '第六十一届会议'}"
      ]
     },
     "execution_count": 6,
     "metadata": {},
     "output_type": "execute_result"
    }
   ],
   "source": [
    "single_data = get_pair_data(ds=ds_raw['train'])\n",
    "next(single_data)"
   ]
  },
  {
   "cell_type": "code",
   "execution_count": 15,
   "metadata": {},
   "outputs": [],
   "source": [
    "sentences = next(single_data)\n",
    "res_test_en = tokenizer_src.encode(sentences['en'])"
   ]
  },
  {
   "cell_type": "code",
   "execution_count": 16,
   "metadata": {},
   "outputs": [
    {
     "name": "stdout",
     "output_type": "stream",
     "text": [
      "ids:[55, 13, 23, 12, 1522, 6, 545, 20, 5829, 22, 6, 128, 13, 23, 2461, 22, 12, 0, 6]\n",
      "type_ids:[0, 0, 0, 0, 0, 0, 0, 0, 0, 0, 0, 0, 0, 0, 0, 0, 0, 0, 0]\n",
      "tokens:['It', \"'\", 's', 'a', 'challenge', '.', 'God', 'is', 'challenging', 'you', '.', 'He', \"'\", 's', 'calling', 'you', 'a', '[UNK]', '.']\n",
      "offsets:[(0, 2), (2, 3), (3, 4), (5, 6), (7, 16), (16, 17), (18, 21), (22, 24), (25, 36), (37, 40), (40, 41), (42, 44), (44, 45), (45, 46), (47, 54), (55, 58), (59, 60), (61, 66), (66, 67)]\n"
     ]
    }
   ],
   "source": [
    "print(f\"ids:{res_test_en.ids}\")\n",
    "print(f\"type_ids:{res_test_en.type_ids}\") # type_ids一般用于区分句子类型。例如，在BERT中，type_ids用于区分句子对中的两个句子，分别标记为0或1。在这个例子中，所有的type_ids都是0，表明这是一个单独的句子。\n",
    "print(f\"tokens:{res_test_en.tokens}\")\n",
    "print(f\"offsets:{res_test_en.offsets}\")"
   ]
  },
  {
   "cell_type": "code",
   "execution_count": 17,
   "metadata": {},
   "outputs": [
    {
     "name": "stdout",
     "output_type": "stream",
     "text": [
      "上帝在挑战你，他说你是笨蛋\n",
      "ids:[0, 4, 0]\n",
      "type_ids:[0, 0, 0]\n",
      "tokens:['[UNK]', '，', '[UNK]']\n",
      "offsets:[(0, 6), (6, 7), (7, 13)]\n"
     ]
    }
   ],
   "source": [
    "print(sentences['zh'])\n",
    "res_test_zh = tokenizer_tgt.encode(sentences['zh'])\n",
    "print(f\"ids:{res_test_zh.ids}\")\n",
    "print(f\"type_ids:{res_test_zh.type_ids}\") # type_ids一般用于区分句子类型。例如，在BERT中，type_ids用于区分句子对中的两个句子，分别标记为0或1。在这个例子中，所有的type_ids都是0，表明这是一个单独的句子。\n",
    "print(f\"tokens:{res_test_zh.tokens}\")\n",
    "print(f\"offsets:{res_test_zh.offsets}\")"
   ]
  },
  {
   "cell_type": "code",
   "execution_count": null,
   "metadata": {},
   "outputs": [],
   "source": []
  }
 ],
 "metadata": {
  "kernelspec": {
   "display_name": "gpt",
   "language": "python",
   "name": "python3"
  },
  "language_info": {
   "codemirror_mode": {
    "name": "ipython",
    "version": 3
   },
   "file_extension": ".py",
   "mimetype": "text/x-python",
   "name": "python",
   "nbconvert_exporter": "python",
   "pygments_lexer": "ipython3",
   "version": "3.10.13"
  }
 },
 "nbformat": 4,
 "nbformat_minor": 2
}
