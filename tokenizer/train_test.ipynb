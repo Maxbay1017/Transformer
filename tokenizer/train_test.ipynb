{
 "cells": [
  {
   "cell_type": "code",
   "execution_count": 6,
   "metadata": {},
   "outputs": [
    {
     "name": "stderr",
     "output_type": "stream",
     "text": [
      "/opt/miniconda3/envs/torch/lib/python3.12/site-packages/tqdm/auto.py:21: TqdmWarning: IProgress not found. Please update jupyter and ipywidgets. See https://ipywidgets.readthedocs.io/en/stable/user_install.html\n",
      "  from .autonotebook import tqdm as notebook_tqdm\n"
     ]
    }
   ],
   "source": [
    "from datasets import Dataset,load_dataset\n",
    "from train_tokenizer import Config,get_all_sentences,get_or_train_tokenizer\n",
    "config = Config()\n",
    "config.datasource = 'Helsinki-NLP/opus-100'\n",
    "config.lang_src =  'en'\n",
    "config.lang_tgt =  'zh'\n",
    "ds_raw = load_dataset(f\"{config.datasource}\", f\"{config.lang_src}-{config.lang_tgt}\",)"
   ]
  },
  {
   "cell_type": "code",
   "execution_count": 7,
   "metadata": {},
   "outputs": [
    {
     "data": {
      "text/plain": [
       "DatasetDict({\n",
       "    test: Dataset({\n",
       "        features: ['translation'],\n",
       "        num_rows: 2000\n",
       "    })\n",
       "    train: Dataset({\n",
       "        features: ['translation'],\n",
       "        num_rows: 1000000\n",
       "    })\n",
       "    validation: Dataset({\n",
       "        features: ['translation'],\n",
       "        num_rows: 2000\n",
       "    })\n",
       "})"
      ]
     },
     "execution_count": 7,
     "metadata": {},
     "output_type": "execute_result"
    }
   ],
   "source": [
    "ds_raw"
   ]
  },
  {
   "cell_type": "code",
   "execution_count": 3,
   "metadata": {},
   "outputs": [
    {
     "name": "stdout",
     "output_type": "stream",
     "text": [
      "\n",
      "\n",
      "\n",
      "Tokenizer saved to bbpe_tokenizer_zh.json\n"
     ]
    }
   ],
   "source": [
    "from train_HFtokenizer import train_bbpe_tokenizer\n",
    "tokenizer = train_bbpe_tokenizer(input_ds=ds_raw['train'],vocab_size=30000,lang=config.lang_tgt)"
   ]
  },
  {
   "cell_type": "code",
   "execution_count": 8,
   "metadata": {},
   "outputs": [],
   "source": [
    "text = get_all_sentences(ds_raw['train'],lang=config.lang_tgt)\n"
   ]
  },
  {
   "cell_type": "code",
   "execution_count": 10,
   "metadata": {},
   "outputs": [
    {
     "data": {
      "text/plain": [
       "'减轻酸... 酸痛的药 减轻酸痛的药'"
      ]
     },
     "execution_count": 10,
     "metadata": {},
     "output_type": "execute_result"
    }
   ],
   "source": [
    "text_iter= next(text)\n",
    "text_iter"
   ]
  },
  {
   "cell_type": "code",
   "execution_count": 11,
   "metadata": {},
   "outputs": [],
   "source": [
    "from tokenizers import Tokenizer\n",
    "tokenizer = Tokenizer.from_file(\"bbpe_tokenizer_zh.json\")"
   ]
  },
  {
   "cell_type": "code",
   "execution_count": 12,
   "metadata": {},
   "outputs": [
    {
     "data": {
      "text/plain": [
       "30000"
      ]
     },
     "execution_count": 12,
     "metadata": {},
     "output_type": "execute_result"
    }
   ],
   "source": [
    "tokenizer.get_vocab_size()"
   ]
  },
  {
   "cell_type": "code",
   "execution_count": 13,
   "metadata": {},
   "outputs": [
    {
     "data": {
      "text/plain": [
       "'减轻酸... 酸痛的药 减轻酸痛的药'"
      ]
     },
     "execution_count": 13,
     "metadata": {},
     "output_type": "execute_result"
    }
   ],
   "source": [
    "text_iter"
   ]
  },
  {
   "cell_type": "code",
   "execution_count": 18,
   "metadata": {},
   "outputs": [
    {
     "name": "stdout",
     "output_type": "stream",
     "text": [
      "ids:[4501, 8796, 650, 175, 8796, 3014, 213, 1588, 175, 4501, 8796, 3014, 213, 1588]\n",
      "type_ids:[0, 0, 0, 0, 0, 0, 0, 0, 0, 0, 0, 0, 0, 0]\n",
      "tokens:['åĩıè½»', 'éħ¸', '...', 'Ġ', 'éħ¸', 'çĹĽ', 'çļĦ', 'èį¯', 'Ġ', 'åĩıè½»', 'éħ¸', 'çĹĽ', 'çļĦ', 'èį¯']\n",
      "offsets:[(0, 2), (2, 3), (3, 6), (6, 7), (7, 8), (8, 9), (9, 10), (10, 11), (11, 12), (12, 14), (14, 15), (15, 16), (16, 17), (17, 18)]\n"
     ]
    }
   ],
   "source": [
    "tokens_zh = tokenizer.encode(text_iter)\n",
    "print(f\"ids:{tokens_zh.ids}\")\n",
    "print(f\"type_ids:{tokens_zh.type_ids}\") # type_ids一般用于区分句子类型。例如，在BERT中，type_ids用于区分句子对中的两个句子，分别标记为0或1。在这个例子中，所有的type_ids都是0，表明这是一个单独的句子。\n",
    "print(f\"tokens:{tokens_zh.tokens}\")\n",
    "print(f\"offsets:{tokens_zh.offsets}\")"
   ]
  },
  {
   "cell_type": "code",
   "execution_count": 15,
   "metadata": {},
   "outputs": [
    {
     "data": {
      "text/plain": [
       "'减轻酸... 酸痛的药 减轻酸痛的药'"
      ]
     },
     "execution_count": 15,
     "metadata": {},
     "output_type": "execute_result"
    }
   ],
   "source": [
    "tokens_zh = tokenizer.decode(tokens_zh.ids)\n",
    "tokens_zh"
   ]
  },
  {
   "cell_type": "code",
   "execution_count": 16,
   "metadata": {},
   "outputs": [
    {
     "data": {
      "text/plain": [
       "'他说'"
      ]
     },
     "execution_count": 16,
     "metadata": {},
     "output_type": "execute_result"
    }
   ],
   "source": [
    "id = [3609]\n",
    "id2token = tokenizer.decode(id)\n",
    "id2token"
   ]
  },
  {
   "cell_type": "code",
   "execution_count": null,
   "metadata": {},
   "outputs": [],
   "source": [
    "def decode(self, ids):\n",
    "     # given ids (list of integers), return Python string\n",
    "    part_bytes = []\n",
    "    for idx in ids:\n",
    "        if idx in self.vocab:    # idx -> bytes   \n",
    "            part_bytes.append(self.vocab[idx])  # 遍历ids中idx 在vocab找到对应的token utf-8表示\n",
    "        elif idx in self.inverse_special_tokens: # 如果是特殊token对应的idx 在倒置的special token 字典里查找\n",
    "            part_bytes.append(self.inverse_special_tokens[idx].encode(\"utf-8\")) # 然后在utf-8编码转化为token\n",
    "        else:\n",
    "            raise ValueError(f\"invalid token id: {idx}\")\n",
    "    text_bytes = b\"\".join(part_bytes)\n",
    "    text = text_bytes.decode(\"utf-8\", errors=\"replace\") # 对text_bytes进行utf-8解码形成token\n",
    "    return text"
   ]
  },
  {
   "cell_type": "code",
   "execution_count": 23,
   "metadata": {},
   "outputs": [],
   "source": [
    "text_bytes = b\"\".join(part_bytes)\n",
    "text = text_bytes.decode(\"utf-8\", errors=\"replace\") # 对text_bytes进行utf-8解码形成token"
   ]
  },
  {
   "cell_type": "code",
   "execution_count": null,
   "metadata": {},
   "outputs": [
    {
     "data": {
      "text/plain": [
       "'åĩıè½»éħ¸...Ġéħ¸çĹĽçļĦèį¯Ġåĩıè½»éħ¸çĹĽçļĦèį¯'"
      ]
     },
     "execution_count": 24,
     "metadata": {},
     "output_type": "execute_result"
    }
   ],
   "source": []
  },
  {
   "cell_type": "markdown",
   "metadata": {},
   "source": [
    "### 使用无改动hf tokenizer进行BPE训练 \n",
    "- 该方法针对en数据集适用"
   ]
  },
  {
   "cell_type": "code",
   "execution_count": 3,
   "metadata": {},
   "outputs": [],
   "source": [
    "from train_HFtokenizer import train_tokenizer"
   ]
  },
  {
   "cell_type": "code",
   "execution_count": 4,
   "metadata": {},
   "outputs": [
    {
     "name": "stdout",
     "output_type": "stream",
     "text": [
      "\n",
      "\n",
      "\n",
      "Tokenizer saved to BPEtokenizer_en.json\n"
     ]
    }
   ],
   "source": [
    "tokenizer = train_tokenizer(input_ds=ds_raw['train'],lang=config.lang_src,save_path='BPEtokenizer_en.json')"
   ]
  },
  {
   "cell_type": "code",
   "execution_count": 5,
   "metadata": {},
   "outputs": [],
   "source": [
    "text = get_all_sentences(ds_raw['train'],lang=config.lang_src)\n"
   ]
  },
  {
   "cell_type": "code",
   "execution_count": 8,
   "metadata": {},
   "outputs": [],
   "source": [
    "text= next(text)"
   ]
  },
  {
   "cell_type": "code",
   "execution_count": 9,
   "metadata": {},
   "outputs": [
    {
     "name": "stdout",
     "output_type": "stream",
     "text": [
      "ids:[479, 310, 189, 3841, 15, 1915, 278, 10977, 272, 15, 556, 310, 5556, 272, 189, 438, 4057, 15]\n",
      "type_ids:[0, 0, 0, 0, 0, 0, 0, 0, 0, 0, 0, 0, 0, 0, 0, 0, 0, 0]\n",
      "tokens:['ĠIt', \"'s\", 'Ġa', 'Ġchallenge', '.', 'ĠGod', 'Ġis', 'Ġchallenging', 'Ġyou', '.', 'ĠHe', \"'s\", 'Ġcalling', 'Ġyou', 'Ġa', 'Ġch', 'ump', '.']\n",
      "offsets:[(0, 2), (2, 4), (5, 6), (7, 16), (16, 17), (18, 21), (22, 24), (25, 36), (37, 40), (40, 41), (42, 44), (44, 46), (47, 54), (55, 58), (59, 60), (61, 63), (63, 66), (66, 67)]\n"
     ]
    }
   ],
   "source": [
    "res_test_en = tokenizer.encode(text)\n",
    "print(f\"ids:{res_test_en.ids}\")\n",
    "print(f\"type_ids:{res_test_en.type_ids}\") # type_ids一般用于区分句子类型。例如，在BERT中，type_ids用于区分句子对中的两个句子，分别标记为0或1。在这个例子中，所有的type_ids都是0，表明这是一个单独的句子。\n",
    "print(f\"tokens:{res_test_en.tokens}\")\n",
    "print(f\"offsets:{res_test_en.offsets}\")"
   ]
  },
  {
   "cell_type": "code",
   "execution_count": 12,
   "metadata": {},
   "outputs": [
    {
     "name": "stdout",
     "output_type": "stream",
     "text": [
      "tokens length: 18\n",
      "ids length: 18\n",
      "compression ratio: 1.00X\n"
     ]
    }
   ],
   "source": [
    "print(\"tokens length:\", len(res_test_en.tokens))\n",
    "print(\"ids length:\", len(res_test_en.ids))\n",
    "print(f\"compression ratio: {len(res_test_en.tokens) / len(res_test_en.ids):.2f}X\")"
   ]
  },
  {
   "cell_type": "code",
   "execution_count": 13,
   "metadata": {},
   "outputs": [
    {
     "name": "stdout",
     "output_type": "stream",
     "text": [
      "\n",
      "\n",
      "\n",
      "Tokenizer saved to BPEtokenizer_zh.json\n"
     ]
    }
   ],
   "source": [
    "tokenizer = train_tokenizer(input_ds=ds_raw['train'],lang=config.lang_tgt,save_path='BPEtokenizer_zh.json')"
   ]
  },
  {
   "cell_type": "code",
   "execution_count": 26,
   "metadata": {},
   "outputs": [],
   "source": [
    "text_zh = get_all_sentences(ds_raw['train'],lang=config.lang_tgt)"
   ]
  },
  {
   "cell_type": "code",
   "execution_count": 28,
   "metadata": {},
   "outputs": [],
   "source": [
    "text_zh1 = next(text_zh)"
   ]
  },
  {
   "cell_type": "code",
   "execution_count": 29,
   "metadata": {},
   "outputs": [
    {
     "data": {
      "text/plain": [
       "'减轻酸... 酸痛的药 减轻酸痛的药'"
      ]
     },
     "execution_count": 29,
     "metadata": {},
     "output_type": "execute_result"
    }
   ],
   "source": [
    "text_zh1"
   ]
  },
  {
   "cell_type": "code",
   "execution_count": 30,
   "metadata": {},
   "outputs": [
    {
     "name": "stdout",
     "output_type": "stream",
     "text": [
      "ids:[175, 4634, 9024, 656, 175, 9024, 3070, 213, 1612, 175, 4634, 9024, 3070, 213, 1612]\n",
      "type_ids:[0, 0, 0, 0, 0, 0, 0, 0, 0, 0, 0, 0, 0, 0, 0]\n",
      "tokens:['Ġ', 'åĩıè½»', 'éħ¸', '...', 'Ġ', 'éħ¸', 'çĹĽ', 'çļĦ', 'èį¯', 'Ġ', 'åĩıè½»', 'éħ¸', 'çĹĽ', 'çļĦ', 'èį¯']\n",
      "offsets:[(0, 0), (0, 2), (2, 3), (3, 6), (7, 7), (7, 8), (8, 9), (9, 10), (10, 11), (12, 12), (12, 14), (14, 15), (15, 16), (16, 17), (17, 18)]\n"
     ]
    }
   ],
   "source": [
    "res_test_zh = tokenizer.encode(text_zh1)\n",
    "print(f\"ids:{res_test_zh.ids}\")\n",
    "print(f\"type_ids:{res_test_zh.type_ids}\") \n",
    "print(f\"tokens:{res_test_zh.tokens}\")\n",
    "print(f\"offsets:{res_test_zh.offsets}\")"
   ]
  },
  {
   "cell_type": "code",
   "execution_count": null,
   "metadata": {},
   "outputs": [],
   "source": []
  },
  {
   "cell_type": "code",
   "execution_count": null,
   "metadata": {},
   "outputs": [],
   "source": []
  }
 ],
 "metadata": {
  "kernelspec": {
   "display_name": "torch",
   "language": "python",
   "name": "python3"
  },
  "language_info": {
   "codemirror_mode": {
    "name": "ipython",
    "version": 3
   },
   "file_extension": ".py",
   "mimetype": "text/x-python",
   "name": "python",
   "nbconvert_exporter": "python",
   "pygments_lexer": "ipython3",
   "version": "3.12.0"
  }
 },
 "nbformat": 4,
 "nbformat_minor": 2
}
